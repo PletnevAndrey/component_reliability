{
 "cells": [
  {
   "cell_type": "markdown",
   "id": "494cdcec",
   "metadata": {},
   "source": [
    "## Оценка влияния фактора загрязнения на надежность компонента\n",
    "\n",
    "#### Исходные данные: \n",
    "Файл failures.xlsx в котором указана наработка на отказ (столбец Hours) компонента в часах. В некоторых случаях при исследовании причины отказа было выявлено загрязнение (столбец Factor). \n",
    "\n",
    "#### Задача: \n",
    "1. Определить, влияет ли загрязнение на надежность компонента (MTBF - mean time between failures). \n",
    "2. Определить закон распределения отказов.\n",
    "3. Определить 95% доверительный интервал средней наработки на отказ."
   ]
  },
  {
   "cell_type": "code",
   "execution_count": 1,
   "id": "0962a6c3",
   "metadata": {},
   "outputs": [],
   "source": [
    "import pandas as pd\n",
    "import seaborn as sns\n",
    "import numpy as np\n",
    "from scipy.stats import shapiro, ttest_ind, levene\n",
    "import scipy.stats as st\n",
    "import statsmodels.api as sm\n",
    "import pandas\n",
    "from patsy import dmatrices\n",
    "from statsmodels.stats.power import TTestIndPower"
   ]
  },
  {
   "cell_type": "code",
   "execution_count": 2,
   "id": "be4ca389",
   "metadata": {
    "scrolled": true
   },
   "outputs": [
    {
     "data": {
      "text/html": [
       "<div>\n",
       "<style scoped>\n",
       "    .dataframe tbody tr th:only-of-type {\n",
       "        vertical-align: middle;\n",
       "    }\n",
       "\n",
       "    .dataframe tbody tr th {\n",
       "        vertical-align: top;\n",
       "    }\n",
       "\n",
       "    .dataframe thead th {\n",
       "        text-align: right;\n",
       "    }\n",
       "</style>\n",
       "<table border=\"1\" class=\"dataframe\">\n",
       "  <thead>\n",
       "    <tr style=\"text-align: right;\">\n",
       "      <th></th>\n",
       "      <th>Hours</th>\n",
       "      <th>Factor</th>\n",
       "    </tr>\n",
       "  </thead>\n",
       "  <tbody>\n",
       "    <tr>\n",
       "      <th>0</th>\n",
       "      <td>6647</td>\n",
       "      <td>dirty</td>\n",
       "    </tr>\n",
       "    <tr>\n",
       "      <th>1</th>\n",
       "      <td>3340</td>\n",
       "      <td>dirty</td>\n",
       "    </tr>\n",
       "    <tr>\n",
       "      <th>2</th>\n",
       "      <td>5916</td>\n",
       "      <td>dirty</td>\n",
       "    </tr>\n",
       "    <tr>\n",
       "      <th>3</th>\n",
       "      <td>996</td>\n",
       "      <td>dirty</td>\n",
       "    </tr>\n",
       "    <tr>\n",
       "      <th>4</th>\n",
       "      <td>5630</td>\n",
       "      <td>dirty</td>\n",
       "    </tr>\n",
       "  </tbody>\n",
       "</table>\n",
       "</div>"
      ],
      "text/plain": [
       "   Hours Factor\n",
       "0   6647  dirty\n",
       "1   3340  dirty\n",
       "2   5916  dirty\n",
       "3    996  dirty\n",
       "4   5630  dirty"
      ]
     },
     "execution_count": 2,
     "metadata": {},
     "output_type": "execute_result"
    }
   ],
   "source": [
    "failures_data = pd.read_excel(r'C:\\Users\\pletn\\Documents\\notebooks\\failures.xlsx')\n",
    "failures_data.head()"
   ]
  },
  {
   "cell_type": "code",
   "execution_count": 3,
   "id": "b9c99369",
   "metadata": {},
   "outputs": [
    {
     "name": "stdout",
     "output_type": "stream",
     "text": [
      "<class 'pandas.core.frame.DataFrame'>\n",
      "RangeIndex: 44 entries, 0 to 43\n",
      "Data columns (total 2 columns):\n",
      " #   Column  Non-Null Count  Dtype \n",
      "---  ------  --------------  ----- \n",
      " 0   Hours   44 non-null     int64 \n",
      " 1   Factor  44 non-null     object\n",
      "dtypes: int64(1), object(1)\n",
      "memory usage: 832.0+ bytes\n"
     ]
    }
   ],
   "source": [
    "failures_data.info()"
   ]
  },
  {
   "cell_type": "code",
   "execution_count": 4,
   "id": "8cbd89e5",
   "metadata": {},
   "outputs": [
    {
     "data": {
      "text/plain": [
       "array(['dirty', 'without dirty'], dtype=object)"
      ]
     },
     "execution_count": 4,
     "metadata": {},
     "output_type": "execute_result"
    }
   ],
   "source": [
    "failures_data['Factor'].unique()"
   ]
  },
  {
   "cell_type": "code",
   "execution_count": 5,
   "id": "0d58e87e",
   "metadata": {},
   "outputs": [
    {
     "data": {
      "text/html": [
       "<div>\n",
       "<style scoped>\n",
       "    .dataframe tbody tr th:only-of-type {\n",
       "        vertical-align: middle;\n",
       "    }\n",
       "\n",
       "    .dataframe tbody tr th {\n",
       "        vertical-align: top;\n",
       "    }\n",
       "\n",
       "    .dataframe thead th {\n",
       "        text-align: right;\n",
       "    }\n",
       "</style>\n",
       "<table border=\"1\" class=\"dataframe\">\n",
       "  <thead>\n",
       "    <tr style=\"text-align: right;\">\n",
       "      <th></th>\n",
       "      <th>cont</th>\n",
       "    </tr>\n",
       "    <tr>\n",
       "      <th>Factor</th>\n",
       "      <th></th>\n",
       "    </tr>\n",
       "  </thead>\n",
       "  <tbody>\n",
       "    <tr>\n",
       "      <th>dirty</th>\n",
       "      <td>18</td>\n",
       "    </tr>\n",
       "    <tr>\n",
       "      <th>without dirty</th>\n",
       "      <td>26</td>\n",
       "    </tr>\n",
       "  </tbody>\n",
       "</table>\n",
       "</div>"
      ],
      "text/plain": [
       "               cont\n",
       "Factor             \n",
       "dirty            18\n",
       "without dirty    26"
      ]
     },
     "execution_count": 5,
     "metadata": {},
     "output_type": "execute_result"
    }
   ],
   "source": [
    "# Количество отказов с загрязнениями и без\n",
    "\n",
    "failures_data.groupby('Factor').agg({'Hours' : 'count'}).rename(columns = {'Hours' : 'cont'})"
   ]
  },
  {
   "cell_type": "code",
   "execution_count": 6,
   "id": "10451fd0",
   "metadata": {
    "scrolled": true
   },
   "outputs": [
    {
     "data": {
      "image/png": "[encoded data removed]",
      "text/plain": [
       "<Figure size 494.875x360 with 1 Axes>"
      ]
     },
     "metadata": {
      "needs_background": "light"
     },
     "output_type": "display_data"
    }
   ],
   "source": [
    "# Распределение средних MTBF на отказ в зависимости от фактора загрязнения \n",
    "\n",
    "dirty = failures_data.query('Factor == \"dirty\"')['Hours']\n",
    "without_dirty = failures_data.query('Factor == \"without dirty\"')['Hours']\n",
    "\n",
    "dirty_MTBF = []\n",
    "without_dirty_MTBF = []\n",
    "\n",
    "for i in range(5000):\n",
    "    dirty_MTBF.append(dirty.sample(len(dirty), replace=True).mean())\n",
    "    without_dirty_MTBF.append(without_dirty.sample(len(without_dirty), replace=True).mean())\n",
    "    \n",
    "MTBF_mean_dirty = pd.DataFrame(dirty_MTBF, columns = ['dirty_mean'])\n",
    "MTBF_mean_without_dirty = pd.DataFrame(without_dirty_MTBF, columns = ['without_dirty_mean'])\n",
    "sns.displot(pd.concat([MTBF_mean_dirty, MTBF_mean_without_dirty]));"
   ]
  },
  {
   "cell_type": "markdown",
   "id": "21987ca2",
   "metadata": {},
   "source": [
    "### 1. Влияние загрязнения на надежность. \n",
    "Гипотеза Н0: MTBF загрязненных компонентов = MTBF без загрязнений, альтернативная H1: MTBF загрязненных компонентов != MTBF без загрязнений.\n",
    "\n",
    "Проверка гипотезы будет происходить для $\\alpha$ = 0.05.\n",
    "\n",
    "Оценка возможности применения t-test:"
   ]
  },
  {
   "cell_type": "code",
   "execution_count": 7,
   "id": "0264a21c",
   "metadata": {},
   "outputs": [
    {
     "data": {
      "text/plain": [
       "ShapiroResult(statistic=0.9995742440223694, pvalue=0.35381004214286804)"
      ]
     },
     "execution_count": 7,
     "metadata": {},
     "output_type": "execute_result"
    }
   ],
   "source": [
    "# Проверка нормальности распределения средних MTBF загрязненных компонентов. alpha = 0.05.\n",
    "\n",
    "shapiro(dirty_MTBF)"
   ]
  },
  {
   "cell_type": "code",
   "execution_count": 8,
   "id": "6bae0fbc",
   "metadata": {},
   "outputs": [
    {
     "data": {
      "text/plain": [
       "ShapiroResult(statistic=0.9997126460075378, pvalue=0.7442430257797241)"
      ]
     },
     "execution_count": 8,
     "metadata": {},
     "output_type": "execute_result"
    }
   ],
   "source": [
    "# Проверка нормальности распределения средних MTBF не загрязненных компонентов. aplpha = 0.05.\n",
    "\n",
    "shapiro(without_dirty_MTBF)"
   ]
  },
  {
   "cell_type": "code",
   "execution_count": 9,
   "id": "0acb0da4",
   "metadata": {},
   "outputs": [
    {
     "data": {
      "text/plain": [
       "LeveneResult(statistic=0.02851066779152972, pvalue=0.8667244008465008)"
      ]
     },
     "execution_count": 9,
     "metadata": {},
     "output_type": "execute_result"
    }
   ],
   "source": [
    "# Проверка гомогенности дисперсий. alpha = 0.05.\n",
    "\n",
    "levene(dirty, without_dirty)"
   ]
  },
  {
   "cell_type": "markdown",
   "id": "a2314628",
   "metadata": {},
   "source": [
    "Условия для применения t-test выполняются. Распределение средних MTBF для клапанов с загрязнением подчиняется нормальному закону (p-value > $\\alpha$), аналогично для клапанов без загрязнения. Дисперсии гомогенны (p-value > $\\alpha$). "
   ]
  },
  {
   "cell_type": "code",
   "execution_count": 10,
   "id": "89510457",
   "metadata": {},
   "outputs": [
    {
     "data": {
      "text/plain": [
       "Ttest_indResult(statistic=1.336408547093011, pvalue=0.1886110939394267)"
      ]
     },
     "execution_count": 10,
     "metadata": {},
     "output_type": "execute_result"
    }
   ],
   "source": [
    "ttest_ind(dirty, without_dirty)"
   ]
  },
  {
   "cell_type": "code",
   "execution_count": 11,
   "id": "3cf00d3b",
   "metadata": {},
   "outputs": [
    {
     "name": "stdout",
     "output_type": "stream",
     "text": [
      "0.24635656311166715\n"
     ]
    }
   ],
   "source": [
    "# Определение мощности теста \n",
    "\n",
    "analysis = TTestIndPower()\n",
    "\n",
    "effect_size = (dirty.mean() - without_dirty.mean()) / np.std(dirty)\n",
    "nobs1 = failures_data.query('Factor == \"dirty\"').shape[0]\n",
    "ratio = failures_data.query('Factor == \"without dirty\"').shape[0] /\\\n",
    "        failures_data.query('Factor == \"dirty\"').shape[0]\n",
    "df = failures_data.shape[0] - 2\n",
    "\n",
    "result = analysis.power(effect_size = effect_size, nobs1 = nobs1, alpha = 0.05, ratio = ratio, \n",
    "                        df = df, alternative='two-sided')\n",
    "\n",
    "print(result)"
   ]
  },
  {
   "cell_type": "markdown",
   "id": "091bdc42",
   "metadata": {},
   "source": [
    "### 2. Определение закона распределения для отказов клапанов\n",
    "Проверим гипотезу Н0 о том, что отказы компонента подчиняются нормальному распределению. $\\alpha$ = 0.05."
   ]
  },
  {
   "cell_type": "code",
   "execution_count": 12,
   "id": "e767ea6f",
   "metadata": {},
   "outputs": [
    {
     "data": {
      "text/plain": [
       "ShapiroResult(statistic=0.9759389758110046, pvalue=0.48009565472602844)"
      ]
     },
     "execution_count": 12,
     "metadata": {},
     "output_type": "execute_result"
    }
   ],
   "source": [
    "shapiro(failures_data['Hours'])"
   ]
  },
  {
   "cell_type": "code",
   "execution_count": 13,
   "id": "4f926eaa",
   "metadata": {},
   "outputs": [
    {
     "name": "stdout",
     "output_type": "stream",
     "text": [
      "Среднее значение наработки =  4598 Стандартное отклонение =  2599\n"
     ]
    }
   ],
   "source": [
    "print('Среднее значение наработки = ', round(failures_data['Hours'].mean()), \n",
    "      'Стандартное отклонение = ', round(np.std(failures_data['Hours'])))"
   ]
  },
  {
   "cell_type": "markdown",
   "id": "d3081b99",
   "metadata": {},
   "source": [
    "### 3. Определение доверительного интервала MTBF."
   ]
  },
  {
   "cell_type": "code",
   "execution_count": 14,
   "id": "1497bc9e",
   "metadata": {},
   "outputs": [
    {
     "data": {
      "text/plain": [
       "(3798.586161769141, 5397.232020049041)"
      ]
     },
     "execution_count": 14,
     "metadata": {},
     "output_type": "execute_result"
    }
   ],
   "source": [
    "st.t.interval(alpha=0.95, df=len(failures_data['Hours'])-1, \n",
    "              loc=np.mean(failures_data['Hours']), \n",
    "              scale=st.sem(failures_data['Hours'])) "
   ]
  },
  {
   "cell_type": "markdown",
   "id": "d145b6e4",
   "metadata": {},
   "source": [
    "# Выводы:\n",
    "\n",
    "1. При проверке гипотезы о равенстве MTBF p-value = 0.188 > $\\alpha$ 0.05. При этом мощность теста составила всего 25%. Соответственно можно говорить о недостаточности данных для вывода о какой то гипотезе с адекватной вероятностью ошибки.\n",
    "2. Отказы PRSOV подчиняются нормальному закону распределения со средним 4597 л.ч. и стандартным отклонением 2599 л.ч.\n",
    "3. 95% доверительный интервал для MTBF составляет (3798, 5397)."
   ]
  },
  {
   "cell_type": "code",
   "execution_count": null,
   "id": "a1d6bf53",
   "metadata": {},
   "outputs": [],
   "source": []
  }
 ],
 "metadata": {
  "kernelspec": {
   "display_name": "Python 3 (ipykernel)",
   "language": "python",
   "name": "python3"
  },
  "language_info": {
   "codemirror_mode": {
    "name": "ipython",
    "version": 3
   },
   "file_extension": ".py",
   "mimetype": "text/x-python",
   "name": "python",
   "nbconvert_exporter": "python",
   "pygments_lexer": "ipython3",
   "version": "3.10.4"
  }
 },
 "nbformat": 4,
 "nbformat_minor": 5
}
